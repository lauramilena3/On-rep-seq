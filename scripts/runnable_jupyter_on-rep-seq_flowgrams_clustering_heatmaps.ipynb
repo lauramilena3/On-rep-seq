{
 "cells": [
  {
   "cell_type": "code",
   "execution_count": null,
   "outputs": [],
   "source": [
    "R.version.string\n",
    "print(\"Finally, Bulk Typing of Bacterial Species down to Strain Level using ON-rep-seq\")\n",
    "print(\"Łukasz Krych, Josué L. Castro-Mejía, Daniel N. Moesby, Morten B. Mikkelsen, Morten A. Rasmussen, Maciej Sykulski, Dennis S. Nielsen\")\n",
    "print(\"-- \")\n",
    "print(\"https://bitbucket.org/modelscat/on-rep-seq/\")\n",
    "print(\"This notebook maintainer's email:\")\n",
    "print(\"Maciej Sykulski'<m.sykulski@genxone.eu>, 'Maciek Sykulski'<macieksk@gmail.com>\")\n",
    "length(ls())"
   ],
   "metadata": {}
  },
  {
   "cell_type": "code",
   "execution_count": null,
   "outputs": [],
   "source": [
    "#workingDir<-\"./\"; getwd();\n",
    "workingDir <- \"__WD_DIR\" \n",
    "setwd(workingDir); getwd()\n",
    "\n",
    "#projDir <- \"__PROJ_DIR\" \n",
    "projDir <- workingDir \n",
    "\n",
    "projectPrefix <- \"__PROJECT_PREFIX\"\n",
    "#projectPrefix <- \"runnable_jupyter_on-rep-seq_flowgrams_clustering_heatmaps\"\n",
    "if (projectPrefix == paste0(\"__\",\"PROJECT_PREFIX\")) {\n",
    "    projectPrefix <- \"runnable_jupyter_on-rep-seq_flowgrams_clustering_heatmaps\" }\n",
    "\n",
    "\n",
    "## To obtain publication .Rdata contact with the authors\n",
    "\n",
    "####### !!!!!!!!\n",
    "####### UNCOMMENT below line and execute this cell\n",
    "####### to load the executed notebook .Rdata to continue to work with it\n",
    "####### !!!!!!!!\n",
    "\n",
    "#LOAD_SAVED_IMAGE<-TRUE\n",
    "\n",
    "if (exists(\"LOAD_SAVED_IMAGE\") && LOAD_SAVED_IMAGE) {\n",
    "  system.time(load(paste(projDir,\"/r_saved_images/\",projectPrefix,\".Rdata\",sep=\"\")))\n",
    "  printS<-print\n",
    "  load.install.libraries()\n",
    "  lsos()\n",
    "}\n",
    "    \n",
    "gc()"
   ],
   "metadata": {}
  },
  {
   "cell_type": "code",
   "execution_count": null,
   "outputs": [],
   "source": [],
   "metadata": {}
  },
  {
   "cell_type": "code",
   "execution_count": null,
   "outputs": [],
   "source": [
    "printS<-print\n",
    "fileStdOut<-\"__STDOUT_FILE\"\n",
    "if(fileStdOut!=paste0(\"__\",\"STDOUT_FILE\")){\n",
    "    fileConn<-file(fileStdOut, \"w\")\n",
    "    #fileConn<-open(fileStdOut, open = \"w\", blocking = FALSE)\n",
    "    #writeLines(c(\"Hello\",\"World\"), fileConn)\n",
    "    printS<-function(obj,...){\n",
    "        text<-capture.output(print(obj))\n",
    "        writeLines(text, fileConn); flush(fileConn)\n",
    "        print(obj,...)\n",
    "    }\n",
    "    printS(paste0(\"Using \",fileStdOut,\" as the output sink.\"))\n",
    "}  else {printS<-print}\n",
    "#close(fileConn)"
   ],
   "metadata": {}
  },
  {
   "cell_type": "code",
   "execution_count": null,
   "outputs": [],
   "source": [
    "srcDir <- \"__SRC_PARENT_DIR\"\n",
    "#testvar <- \"__TEST_VAR\"\n",
    "\n",
    "rep.sample.dir=\"__REP_SAMPLE_DIR\" #paste0(projDir,\"/../data/Lukas180425/peaks-profiles/\")\n",
    "#rep.sample.dir=\"paste0(projDir,\"/../data/Lukas180425/peaks-profiles/\")\n",
    "\n",
    "ma.window.size <- as.integer(\"__MA_WINDOW_SIZE\")\n",
    "if(is.na(ma.window.size)) ma.window.size <- 20 ## default value\n",
    "printS(paste0(\"Using ma.window.size=\",ma.window.size))\n",
    "\n",
    "heatmap.filepref <- \"__HMAP_PREFIX\"\n",
    "if (heatmap.filepref == paste0(\"__\",\"HMAP_PREFIX\")) {\n",
    "    heatmap.filepref <- \"on-rep-seq\" }\n",
    "heatmap.filepref <- paste0(projDir,\"/\",heatmap.filepref)"
   ],
   "metadata": {}
  },
  {
   "cell_type": "code",
   "execution_count": null,
   "outputs": [],
   "source": [],
   "metadata": {}
  },
  {
   "cell_type": "code",
   "execution_count": null,
   "outputs": [],
   "source": [
    "##This cell is marked with 'raises-exception' tag (View/Cell Toolbar/Tags) so the notebook continues - in case if not allowing exceptions in the notebook, which currently is not a good idea since in case of error the execution resulting notebook is not saved. Parameter --save-on-error for jupyter nbconvert is not yet implemented.\n",
    "#stop(1)"
   ],
   metadata": {
    "tags": [
     "raises-exception"
    ]
   },
  },
  {
   "cell_type": "code",
   "execution_count": null,
   "outputs": [],
   "source": [
    "stopNbEval<-function(...){\n",
    "    defname <- paste(projDir, \"/r_saved_images/\", projectPrefix, \".Rdata\", sep = \"\")\n",
    "    printS(p(\"Stopping Notebook evaluation effectively by deleting objects. Saving first R image .Rdata to: \", defname));\n",
    "    printS(head(lsos(),3)); printS(gc());\n",
    "    save_new_image();\n",
    "    #i<-1; while(TRUE){\n",
    "    for (i in c(1)) {                          \n",
    "     rm(pos=i,list = ls(pos=i))\n",
    "     #tryCatch(rm(pos=i,list = ls(pos=i,all.names = TRUE)),error=function(e){break})\n",
    "};}#i<-i+1;}; stop(1)}\n",
    "#stopNbEval()"
   ],
   "metadata": {}
  },
  {
   "cell_type": "code",
   "execution_count": null,
   "outputs": [],
   "source": [
    "#srcDir"
   ],
   "metadata": {}
  },
  {
   "cell_type": "code",
   "execution_count": null,
   "outputs": [],
   "source": [
    "libraryI<-function(pkg){pkg<-as.character(substitute(pkg)); print(pkg);\n",
    "if(!library(pkg,logical.return=TRUE,character.only=TRUE)){\n",
    "    install.packages(pkg);\n",
    "    if(!library(pkg,logical.return=TRUE,character.only=TRUE)){\n",
    "        printS(p(\"ERROR! could not load package \",pkg)); stop(1)\n",
    "}}}\n",
    "#libraryI(latticeee)"
   ],
   "metadata": {}
  },
  {
   "cell_type": "code",
   "execution_count": null,
   "outputs": [],
   "source": [
    "libraryI(heatmap3)\n",
    "libraryI(hash)\n",
    "libraryI(fastmatch)"
   ],
   "metadata": {}
  },
  {
   "cell_type": "code",
   "execution_count": null,
   "outputs": [],
   "source": [
    "#\n",
    "load.sources<-function(){\n",
    "    for (f in  c(\"utils.R\", #Contains inpar, save_new_image, etc\n",
    "                 \"heatmap3_env.R\" #The version of heatmap3 used in the project is slightly different (older?) than the one from heatmap3 package\n",
    "                 #...  \n",
    "                 ) \n",
    "        ){\n",
    "    source(paste(srcDir,\"/src/\",f,sep=\"\"))\n",
    "   }\n",
    "}\n",
    "load.sources()\n",
    "\n",
    "psz<-function(w,h=w,res=120,...)options(repr.plot.width=w,  repr.plot.height=h,repr.plot.res=res,...)"
   ],
   "metadata": {}
  },
  {
   "cell_type": "code",
   "execution_count": null,
   "outputs": [],
   "source": [
    "#gc()\n",
    "#system.time(save_new_image())"
   ],
   "metadata": {}
  },
  {
   "cell_type": "code",
   "execution_count": null,
   "outputs": [],
   "source": [],
   "metadata": {}
  },
  {
   "cell_type": "code",
   "execution_count": null,
   "outputs": [],
   "source": [
    "load.install.libraries<-function(){\n",
    "libraryI(parallel)\n",
    "libraryI(lattice)\n",
    "libraryI(latticeExtra)\n",
    "libraryI(ggplot2)\n",
    "libraryI(gplots)\n",
    "#libraryI(png)\n",
    "\n",
    "#libraryI(Hmisc)\n",
    "libraryI(cluster)\n",
    "libraryI(MASS)\n",
    "libraryI(reshape)\n",
    "libraryI(heatmap3)\n",
    "##libraryI(forecast) ## ma moving average, \n",
    "## using ma defined few cells down\n",
    "#ma<-function (x, n = 5) { filter(x, rep(1/n, n), sides = 2) }\n",
    "\n",
    "#libraryI(lumi)\n",
    "#libraryI(lumiHumanIDMapping)\n",
    "#libraryI(lumiHumanAll.db)\n",
    "#libraryI(limma)\n",
    "\n",
    "#libraryI(annotate)\n",
    "#libraryI(GOstats)\n",
    "\n",
    "#libraryI(multtest)\n",
    "libraryI(matrixStats)\n",
    "#libraryI(extrafont)\n",
    "#libraryI(enrichvs)\n",
    "#libraryI(statmod)\n",
    "#libraryI(flexmix)\n",
    "\n",
    "libraryI(gdata)  ## read.xls\n",
    "\n",
    "libraryI(IRdisplay)\n",
    "libraryI(scales)\n",
    "\n",
    "libraryI(spectral)\n",
    "\n",
    "load.sources()\n",
    "}\n",
    "\n",
    "load.install.libraries()\n",
    "\n",
    "sessionInfo()"
   ],
   "metadata": {}
  },
  {
   "cell_type": "code",
   "execution_count": null,
   "outputs": [],
   "source": [
    "#install.packages(\"heatmap3\")\n",
    "#for (i in 1:1000){dev.off()}"
   ],
   "metadata": {}
  },
  {
   "cell_type": "code",
   "execution_count": null,
   "outputs": [],
   "source": [
    "#library(scales)\n",
    "#grey_pal\n",
    "\n",
    "ma<-function (x, n = 5) { filter(x, rep(1/n, n), sides = 2) }\n",
    "\n",
    "plot.matrix<-function(z,low=0,high=1){    \n",
    "    image(1:ncol(z), 1:nrow(z), round(t((z-low)/(high-low))*100), \n",
    "          #col = grey_pal(1,0)(100),\n",
    "          col = c(grey_pal(1,0.5)(20),grey_pal(0.5,0)(80)), \n",
    "          axes = FALSE)\n",
    "}\n",
    "\n",
    "plot.matrix.fp<-function(z,low=min(z,na.rm=TRUE),high=max(z,na.rm=TRUE), center=F){\n",
    "   z<-as.matrix(z)\n",
    "   if(center) z <- z-mean(z)\n",
    "   image(1:ncol(z), 1:nrow(z), t(z), #round(t((z-low)/(high-low))*100), \n",
    "         #col = colors()[1:100],\n",
    "         #col = grey_pal(0,1)(100),\n",
    "         col = greenred(100),\n",
    "         #col = c(grey_pal(1,0.5)(20),grey_pal(0.5,0)(80)), \n",
    "         axes = FALSE)\n",
    "}"
   ],
   "metadata": {}
  },
  {
   "cell_type": "code",
   "execution_count": null,
   "outputs": [],
   "source": [],
   "metadata": {}
  },
  {
   "cell_type": "markdown",
   "source": [
    "<hr>"
   ],
   "metadata": {
    "collapsed": false
   }
  },
  {
   "cell_type": "markdown",
   "source": [
    "<hr>\n",
    "\n",
    "# <font size=\"10px\"><center> Developing pipeline for Oxford Nanopore based rep-PCR amplicon sequencing </center></font>\n",
    "\n",
    "![EM_title_part](EM_title_part.png)"
   ],
   "metadata": {
    "collapsed": false
   }
  },
  {
   "cell_type": "code",
   "execution_count": null,
   "outputs": [],
   "source": [
    "#fnames<-sort(dir(p(projDir,\"/../porechop_out.ONTsmth_GTGrem_lenstats/\"),\"*txt\"))\n",
    "\n",
    "#rep.sample.dir<-p(projDir,\"/../data/Lukas180425/peaks-profiles/\")\n",
    "fnames<-grep(\"^rep\",sort(dir(rep.sample.dir,\"*txt\")),value=TRUE)\n",
    "\n",
    "printS(p(\"Found \",length(fnames),\" rep*.txt files in the sample dir=\",rep.sample.dir))\n",
    "\n",
    "printS(p(\"head(fnames)=\",p(head(fnames),collapse=\", \")))\n",
    "printS(p(\"table(table(fnames))=\",table(table(fnames))))\n",
    "#substr(fnames,1,13)"
   ],
   "metadata": {}
  },
  {
   "cell_type": "code",
   "execution_count": null,
   "outputs": [],
   "source": [],
   "metadata": {}
  },
  {
   "cell_type": "code",
   "execution_count": null,
   "outputs": [],
   "source": [
    "\n",
    "## Possible TODO support sample description in .xls\n",
    "if (exists(\"SAMPLES_NAMES_XLS\") && !is.null(SAMPLES_NAMES_XLS)) {\n",
    "  libraryI(gdata)\n",
    "  rep.assign.wide<-read.xls(\n",
    "  #p(projDir,\"/../data/Lukas180425/peaks-profiles/Table01.xls\"),\n",
    "  #p(rep.sample.dir,\"/Table01.xls\"),\n",
    "  p(SAMPLES_NAMES_XLS),      \n",
    "  method=\"tsv\")\n",
    "    \n",
    "  head(rep.assign.wide)\n",
    "  table(rep.assign.wide$id)\n",
    "}"
   ],
   "metadata": {}
  },
  {
   "cell_type": "markdown",
   "source": [
    "! [EM_peaks_all](EM_peaks_all.png)"
   ],
   "metadata": {
    "collapsed": false
   }
  },
  {
   "cell_type": "code",
   "execution_count": null,
   "outputs": [],
   "source": [],
   "metadata": {}
  },
  {
   "cell_type": "code",
   "execution_count": null,
   "outputs": [],
   "source": [
    "#samp.len.cnts<-data.frame()\n",
    "maxL<-8000\n",
    "samp.len.cnts<-matrix(0,maxL,length(fnames))\n",
    "#dim(samp.len.cnts)\n",
    "for (i in seq_along(fnames)){\n",
    "    f<-fnames[i]\n",
    "    cnts<-read.table(paste(rep.sample.dir,f,sep=\"/\"),header=FALSE)\n",
    "    cnts[,1]<-as.integer(cnts[,1])\n",
    "    cnts[,2]<-as.integer(cnts[,2])\n",
    "    #print(class(cnts[,1]))\n",
    "    cnts<-cnts[cnts[,2]<=maxL,] #Subset only these lengths\n",
    "    samp.len.cnts[cnts[,2],i]<-cnts[,1]            \n",
    "}\n",
    "colnames(samp.len.cnts)<-sub(\".txt$\",\"\",fnames)\n",
    "colnames(samp.len.cnts)<-sub(\".fastq$\",\"\",colnames(samp.len.cnts))\n",
    "options(repr.plot.width=10, repr.plot.height=4,res=120)\n",
    "plot(sort(colSums(samp.len.cnts)),main=\"Read counts within barcoded samples of one 4hr MinION run\",\n",
    "     xlab=\"Barcoded subsample\")"
   ],
   "metadata": {}
  },
  {
   "cell_type": "code",
   "execution_count": null,
   "outputs": [],
   "source": [
    "which.max(colSums(samp.len.cnts))"
   ],
   "metadata": {}
  },
  {
   "cell_type": "code",
   "execution_count": null,
   "outputs": [],
   "source": [
    "## Possible TODO support sample description in .xls\n",
    "if (exists(\"SAMPLES_NAMES_XLS\") && !is.null(SAMPLES_NAMES_XLS)) {\n",
    "rep.assign<-reshape(rep.assign.wide,direction = \"long\", varying = c('run08A','run08B','run08C'), times=c(\"A\",\"B\",\"C\"),\n",
    "        v.names = \"rep.name.pref\",new.row.names=1:99999)\n",
    "rep.assign<-transform(rep.assign,rep.name=paste(rep.name.pref,time,sep=\"\"),\n",
    "                      strain=gsub(\" \",\"_\",trimws(strain)))\n",
    "rep.assign<-transform(rep.assign,\n",
    "                      full.strain=gsub(\" \",\"_\",paste(strain,type.strain, sep=\"_\")))\n",
    "table(table(rep.assign$rep.name))\n",
    "head(rep.assign)\n",
    "} else {\n",
    "  ## This works now: sample names and strains from filenames, \n",
    "  ## no a priori clustering\n",
    "  vnms<-colnames(samp.len.cnts) ## Has to be exact! is matched later\n",
    "  rep.assign<-data.frame(id=vnms,\n",
    "    plate.format=vnms,\n",
    "    strain=vnms,\n",
    "    type.strain=vnms,\n",
    "    profile.ID=vnms,\n",
    "    ID=vnms,\n",
    "    time=vnms,\n",
    "    rep.name.pref=vnms,\n",
    "    rep.name=vnms,\n",
    "    full.strain=vnms\n",
    "    )    \n",
    "}    \n",
    "\n",
    "table(table(with(rep.assign,strain)))\n",
    "table(table(with(rep.assign,full.strain)))"
   ],
   "metadata": {}
  },
  {
   "cell_type": "code",
   "execution_count": null,
   "outputs": [],
   "source": [],
   "metadata": {}
  },
  {
   "cell_type": "code",
   "execution_count": null,
   "outputs": [],
   "source": [
    "#s.num<-1\n",
    "s.num<-NCOL(samp.len.cnts)\n",
    "options(repr.plot.width=10, repr.plot.height=3,res=120)\n",
    "plot(samp.len.cnts[1:5000,s.num],type=\"l\",pch=\".\",xlab=\"read.length\",main=\"A single bacterial colony sample profile\")"
   ],
   "metadata": {}
  },
  {
   "cell_type": "code",
   "execution_count": null,
   "outputs": [],
   "source": [
    "#s.num<-1\n",
    "s.num<-NCOL(samp.len.cnts)\n",
    "options(repr.plot.width=10, repr.plot.height=3,res=120)\n",
    "plot(x=log2(30:5000),y=samp.len.cnts[30:5000,s.num],type=\"l\",pch=\".\",xlab=\"log2(read.length)\",main=\"A single bacterial colony sample profile (log2 xscale)\")"
   ],
   "metadata": {}
  },
  {
   "cell_type": "code",
   "execution_count": null,
   "outputs": [],
   "source": [
    "#save_new_image()"
   ],
   "metadata": {}
  },
  {
   "cell_type": "code",
   "execution_count": null,
   "outputs": [],
   "source": [
    "printS(\"Measuring jitteriness of profiles\")\n",
    "cnt.range<-150:3000\n",
    "\n",
    "jitter.res<-mclapply(10:80,function(ma.window){\n",
    "samp.len.cnts.ma<-apply(samp.len.cnts,2,function(r)as.integer(ma(r,ma.window)))\n",
    "samp.prob<-samp.len.cnts.ma[cnt.range,]\n",
    "samp.prob<-t(t(samp.prob)/(colSums(samp.prob)+1))\n",
    "mean(sapply(1:NCOL(samp.prob),function(i)sum(abs(diff(sign(diff(samp.prob[,i])))))/2))\n",
    "})  \n"
   ],
   "metadata": {}
  },
  {
   "cell_type": "code",
   "execution_count": null,
   "outputs": [],
   "source": [
    "##Proposed ma.window.size TODO make variable DONE\n",
    "#ma.window.size<-20 ## Now defined at the top\n",
    "\n",
    "#jitter.res\n",
    "printS(\"Jitteriness plots\")\n",
    "psz(h=6,w=7)\n",
    "par(mfcol=c(2,1), mai = c(0.8, 0.8, 0.5, 0.1),oma=c(0,0,0,0))\n",
    "layout(matrix(c(1,2),2, 1, byrow = TRUE), \n",
    "  \twidths=c(1,1), heights=c(1.07,0.93))\n",
    "plot(10:80,jitter.res,type=\"b\",ylab=\"mean.jitter of profiles\",xlab=\"ma.window\")\n",
    "title(main=\"Choice of ma window size based on profiles jitter\")\n",
    "grid()\n",
    "abline(v=ma.window.size,lty=2,col=\"darkgrey\")\n",
    "par(mai=c(0.8, 0.8, 0.1, 0.1))\n",
    "plot(11:80,diff(as.numeric(jitter.res)),type=\"b\",ylab=\"diff.mean.jitter of profiles\",xlab=\"ma.window\")\n",
    "grid()\n",
    "\n",
    "abline(v=ma.window.size,lty=2,col=\"darkgrey\")\n",
    "#title(\"\",line=-1)\n",
    "#psz(h=4,w=10)\n",
    "#plot(12:80,diff(diff(as.numeric(jitter.res),lag=1)),type=\"b\",ylab=\"diff.diff.mean.jitter of profiles\",xlab=\"ma.window\")"
   ],
   "metadata": {}
  },
  {
   "cell_type": "code",
   "execution_count": null,
   "outputs": [],
   "source": [],
   "metadata": {}
  },
  {
   "cell_type": "code",
   "execution_count": null,
   "outputs": [],
   "source": [
    "psz(h=4,w=10)\n",
    "#plot(11:80,diff(as.numeric(jitter.res)),type=\"b\",ylab=\"diff.mean.jitter of profiles\",xlab=\"ma.window\")\n",
    "plot(12:80,diff(diff(as.numeric(jitter.res),lag=1)),type=\"b\",ylab=\"diff.diff.mean.jitter of profiles\",xlab=\"ma.window\")"
   ],
   "metadata": {}
  },
  {
   "cell_type": "code",
   "execution_count": null,
   "outputs": [],
   "source": [
    "#jitter.res\n",
    "#diff(as.numeric(jitter.res))\n"
   ],
   "metadata": {}
  },
  {
   "cell_type": "code",
   "execution_count": null,
   "outputs": [],
   "source": [
    "samp.len.cnts.org<-samp.len.cnts\n",
    "\n",
    "if (exists(\"SUBSAMPLE_FRAC\") && !is.null(SUBSAMPLE_FRAC)) {\n",
    "  ##Subsample \n",
    "  l<-1:NROW(samp.len.cnts.org)\n",
    "  frac<-SUBSAMPLE_FRAC #0.1\n",
    "  samp.len.cnts<-sapply(1:NCOL(samp.len.cnts.org),function(i){\n",
    "    src<-rep(l,samp.len.cnts.org[,i])\n",
    "    tabulate(sample(src,length(src)*frac),NROW(samp.len.cnts.org))\n",
    "  })\n",
    "  dim(samp.len.cnts)\n",
    "}\n",
    "##Use a whole sample \n",
    "#samp.len.cnts<-samp.len.cnts.org"
   ],
   "metadata": {}
  },
  {
   "cell_type": "code",
   "execution_count": null,
   "outputs": [],
   "source": [
    "summary(colSums(samp.len.cnts)/colSums(samp.len.cnts.org))\n",
    "summary(colSums(samp.len.cnts))"
   ],
   "metadata": {}
  },
  {
   "cell_type": "code",
   "execution_count": null,
   "outputs": [],
   "source": [
    "#s.num<-1\n",
    "s.num<-NCOL(samp.len.cnts)\n",
    "\n",
    "##ma defined previously\n",
    "#ma <- function(x,n=5){filter(x,rep(1/n,n), sides=2)}\n",
    "#s<-sample(10,10,replace=TRUE)\n",
    "#rbind(s,as.integer(ma(s)),ma(s))\n",
    "\n",
    "#samp.len.cnts.ma<-apply(samp.len.cnts,2,function(r)as.integer(ma(r,20)))\n",
    "samp.len.cnts.ma<-apply(samp.len.cnts,2, function(r)ma(r,ma.window.size))\n",
    "options(repr.plot.width=10, repr.plot.height=3,res=120)    \n",
    "plot(samp.len.cnts.ma[1:5000,s.num],type=\"l\",pch=\".\",xlab=\"read.length\",main=p(\"A single bacterial colony sample profile\\n(MA \",ma.window.size,\"bp smoothed)\")) \n",
    "plot(x=log2(30:5000),y=log2(1+samp.len.cnts.ma[30:5000,s.num]),type=\"l\",pch=\".\",xlab=\"log2(read.length)\",main=p(\"A single bacterial colony sample profile\\n(MA \",ma.window.size,\"bp smoothed, log2 xscale)\"))"
   ],
   "metadata": {}
  },
  {
   "cell_type": "code",
   "execution_count": null,
   "outputs": [],
   "source": [
    "#s<-samp.len.cnts[400:500]\n",
    "#rbind(s,ma(s))"
   ],
   "metadata": {}
  },
  {
   "cell_type": "code",
   "execution_count": null,
   "outputs": [],
   "source": [
    "#install.packages(\"forecast\")"
   ],
   "metadata": {}
  },
  {
   "cell_type": "code",
   "execution_count": null,
   "outputs": [],
   "source": [
    "options(repr.plot.width=20, repr.plot.height=20,res=120)\n",
    "printS(\"LCprofiles for the first 20 samples\")\n",
    "par(mfrow=c(5,4))\n",
    "\n",
    "# Fixed issue here where it assumes you'll always have >= 20 columns or >= 3000 rows\n",
    "maLen <- nrow(samp.len.cnts.ma)\n",
    "rowMax <- min(3000, maLen)\n",
    "colMax<-min(20, ncol(samp.len.cnts.ma))\n",
    "\n",
    "for (i in 1:colMax){\n",
    " if(maLen > 0) {\n",
    "  plot(samp.len.cnts.ma[1:rowMax,i],type=\"l\",pch=\".\")\n",
    " }\n",
    "}"
   ],
   "metadata": {}
  },
  {
   "cell_type": "code",
   "execution_count": null,
   "outputs": [],
   "source": [
    "## Sample reads (lengths) from mixture of species"
   ],
   "metadata": {}
  },
  {
   "cell_type": "code",
   "execution_count": null,
   "outputs": [],
   "source": [],
   "metadata": {}
  },
  {
   "cell_type": "code",
   "execution_count": null,
   "outputs": [],
   "source": [],
   "metadata": {}
  },
  {
   "cell_type": "markdown",
   "source": [
    "<br>\n",
    "<br>\n",
    "<br>\n",
    "\n",
    "# <center> Clustering Length Counts profiles </center>\n",
    "<br>\n",
    "<br>\n",
    "<br>"
   ],
   "metadata": {
    "collapsed": false
   }
  },
  {
   "cell_type": "code",
   "execution_count": null,
   "outputs": [],
   "source": [
    "##\n",
    "## Normalize database of known profiles\n",
    "##\n",
    "\n",
    "samp.len.cnts.ma.norm<-apply(samp.len.cnts.ma,2,function(v)as.numeric(v)/sum(v,na.rm=TRUE))\n",
    "samp.len.cnts.ma.norm[is.na(samp.len.cnts.ma.norm)]<-0\n",
    "\n",
    "samp.len.cnts.norm<-apply(samp.len.cnts,2,function(v)as.numeric(v)/sum(v,na.rm=TRUE))\n",
    "samp.len.cnts.norm[is.na(samp.len.cnts.norm)]<-0                             \n",
    "                             \n",
    "\n",
    "all(abs(colSums(samp.len.cnts.ma.norm)-1)<10^-11)\n",
    "all(abs(colSums(samp.len.cnts.ma.norm)-1)<10^-7)\n"
   ],
   "metadata": {}
  },
  {
   "cell_type": "code",
   "execution_count": null,
   "outputs": [],
   "source": [
    "#samp.len.cnts samp.len.cnts.ma\n",
    "\n",
    "h0.sample<-rowSums(samp.len.cnts.norm)/sum(samp.len.cnts.norm)\n",
    "#h0.sample<-rowSums(samp.len.cnts)/sum(samp.len.cnts)\n",
    "\n",
    "sum(h0.sample)\n",
    "\n",
    "#options(repr.plot.width=10, repr.plot.height=3,res=120)\n",
    "psz(10,2.5,res=150); #par(mfcol=c(2,1))\n",
    "plot(h0.sample,type=\"l\")\n",
    "plot(h0.sample[150:3000],type=\"l\")"
   ],
   "metadata": {}
  },
  {
   "cell_type": "code",
   "execution_count": null,
   "outputs": [],
   "source": [
    "#\n",
    "summary(colSums(samp.len.cnts))"
   ],
   "metadata": {}
  },
  {
   "cell_type": "code",
   "execution_count": null,
   "outputs": [],
   "source": [],
   "metadata": {}
  },
  {
   "cell_type": "code",
   "execution_count": null,
   "outputs": [],
   "source": [
    "prepare.h0.odds.ratio.mat<-function(cnt.range=150:3000,noise.mixture.p=0.01){\n",
    "    cnt.range<<-cnt.range\n",
    "\n",
    "    #samp.len.cnts samp.len.cnts.ma\n",
    "    h0.sample<-rowSums(samp.len.cnts.norm)/sum(samp.len.cnts.norm)\n",
    "    #h0.sample<-rowSums(samp.len.cnts)/sum(samp.len.cnts)\n",
    "    sum(h0.sample)\n",
    "    #options(repr.plot.width=10, repr.plot.height=3,res=120)\n",
    "    #plot(h0.sample,type=\"l\")\n",
    "\n",
    "    uniform.sample<-rep(1/length(cnt.range),uniform=NROW(samp.len.cnts.ma.norm))\n",
    "    #h0.sample<-uniform.sample\n",
    "\n",
    "    #summary(samp.len.cnts.ma.norm[1000:2000,])\n",
    "\n",
    "    samp.prob<-cbind(h0.sample,uniform.sample,\n",
    "                                samp.len.cnts.ma.norm)[cnt.range,]\n",
    "    samp.prob<-t(t(samp.prob)/colSums(samp.prob))\n",
    "    #histogram(log10(as.vector(samp.prob[samp.prob!=0])),breaks=40)\n",
    "    r<-noise.mixture.p #0.01\n",
    "    noise.prob<-r/(1-r)/length(cnt.range)\n",
    "    c(np=noise.prob,qp=quantile(samp.prob[samp.prob!=0],noise.mixture.p)) #0.01))\n",
    "    #noise.prob<-quantile(samp.prob[samp.prob!=0],0.01)\n",
    "\n",
    "    samp.prob<-samp.prob+noise.prob\n",
    "    samp.prob<-t(t(samp.prob)/colSums(samp.prob))\n",
    "    stopifnot(all(abs(colSums(samp.prob)-1)<10^-8))\n",
    "    log.samp.prob<-log10(samp.prob)\n",
    "    \n",
    "    #print(table(colMins(log.samp.prob)))\n",
    "    print(head(table(colMins(log.samp.prob)),n=3))\n",
    "    \n",
    "    print(c(class(log.samp.prob),dim(log.samp.prob)))\n",
    "    print(c(class(samp.len.cnts),dim(samp.len.cnts)))\n",
    "\n",
    "    res<-mclapply(as.data.frame(#cbind(cbind(h0.sample,uniform.sample)*median(colSums(samp.len.cnts)),\n",
    "                                        samp.len.cnts),function(slcnts){\n",
    "                  #print(length(slcnts))\n",
    "                  #print(length(cnt.range))\n",
    "                  #stopifnot(length(slcnts[cnt.range])==NROW(log.samp.prob))\n",
    "                  colSums(log.samp.prob*slcnts[cnt.range])/sum(slcnts[cnt.range])\n",
    "                  }\n",
    "            #SIMPLIFY=TRUE\n",
    "            )\n",
    "    res<-as.data.frame(res)\n",
    "    print(c(\"NCOL(log.samp.prob)\"=NCOL(log.samp.prob)))\n",
    "    print(c(\"NCOL(samp.len.cnts)\"=NCOL(samp.len.cnts)))\n",
    "    print(dim(res))\n",
    "    print(class(res))\n",
    "\n",
    "    #h0.odds.ratio.mat<-(as.matrix(res[-(1:2),-(1:2)]-as.vector(as.matrix(res[-(1:2),1]))))#+ #column substraction\n",
    "    #h0.odds.ratio.mat<- as.matrix(t(res[-(1:2),-(1:2)])-as.vector(as.matrix(res[1,-(1:2)]))) #)/2\n",
    "\n",
    "    ##Log odds ratio according to above mclapply\n",
    "    #h0.odds.ratio.mat<- as.matrix(t(res[-(1:2),])-as.vector(as.matrix(res[1,]))) #)/2  \n",
    "    ##h0.sample\n",
    "    #h0.odds.ratio.mat<- as.matrix(t(res[-(1:2),])-as.vector(as.matrix(res[2,]))) #)/2  ##uniform.sample\n",
    "\n",
    "    ##Relative entropy, that is Kullback-Leiber divergence\n",
    "    h0.odds.ratio.mat<- as.matrix(t(res[-(1:2),])-as.vector(diag(as.matrix(res[-c(1:2),])))) #)/2  \n",
    "\n",
    "    #h0.odds.ratio.mat<-\n",
    "    #colSums(samp.len.cnts[cnt.range,])[sub.range])\n",
    "\n",
    "    ### Symmetrize\n",
    "    h0.odds.ratio.mat<-(h0.odds.ratio.mat+t(h0.odds.ratio.mat))/2\n",
    "\n",
    "    #unif.odds.ratio.mat<-TODO as above\n",
    "\n",
    "    print(dim(h0.odds.ratio.mat))\n",
    "    printS(\"summary(as.vector(h0.odds.ratio.mat))\")\n",
    "    printS(summary(as.vector(h0.odds.ratio.mat)))\n",
    "    h0.odds.ratio.mat\n",
    "}\n",
    "\n",
    "h0.odds.ratio.mat<-prepare.h0.odds.ratio.mat()\n",
    "#plot(sort(res[])\n",
    "#         ,decreasing=TRUE)[1:30])"
   ],
   "metadata": {}
  },
  {
   "cell_type": "code",
   "execution_count": null,
   "outputs": [],
   "source": [
    "#colSums(10^log.samp.prob)"
   ],
   "metadata": {}
  },
  {
   "cell_type": "code",
   "execution_count": null,
   "outputs": [],
   "source": [
    "summary(diag(h0.odds.ratio.mat))"
   ],
   "metadata": {}
  },
  {
   "cell_type": "code",
   "execution_count": null,
   "outputs": [],
   "source": [
    "#res[3,]\n",
    "#summary(t(res[3,]-res[2,]))\n",
    "\n",
    "psz(6)\n",
    "plot.matrix.fp(h0.odds.ratio.mat,center=TRUE)"
   ],
   "metadata": {}
  },
  {
   "cell_type": "code",
   "execution_count": null,
   "outputs": [],
   "source": [
    "psz(8,3)\n",
    "#plot(sort(res[-(1:2),]-res[-(1:2),1],decreasing=TRUE)[1:30])\n",
    "samp.n<-15\n",
    "plot(sort(h0.odds.ratio.mat[,samp.n]\n",
    "          #/sum(samp.len.cnts[cnt.range,samp.n])          \n",
    "          ,decreasing=TRUE)[1:30],\n",
    "     ylab=\"scores\",\n",
    "     type=\"b\")"
   ],
   "metadata": {}
  },
  {
   "cell_type": "code",
   "execution_count": null,
   "outputs": [],
   "source": [
    "#as.vector(as.matrix(res[1,-(1:2)]))\n",
    "rep.assign<-rep.assign[match(colnames(h0.odds.ratio.mat),rep.assign$rep.name),]\n",
    "stopifnot(NROW(rep.assign)==NCOL(samp.len.cnts))\n",
    "\n",
    "#TO DONE add read counts\n",
    "rep.assign$read.count<-colSums(samp.len.cnts[,rep.assign$rep.name])\n",
    "head(rep.assign)\n",
    "\n",
    "psz(3)\n",
    "hist(rep.assign$read.count,breaks=50)\n",
    "\n",
    "#TODO check A or B or C seperately? maybe"
   ],
   "metadata": {}
  },
  {
   "cell_type": "code",
   "execution_count": null,
   "outputs": [],
   "source": [
    "summary(as.vector(as.matrix(h0.odds.ratio.mat)))\n",
    "length(as.matrix(h0.odds.ratio.mat))\n",
    "table(as.integer(factor(rep.assign$full.strain[1:60])))\n",
    "#hc<-fastcluster::hclust(as.dist(-as.matrix(h0.odds.ratio.mat)))"
   ],
   "metadata": {}
  },
  {
   "cell_type": "code",
   "execution_count": null,
   "outputs": [],
   "source": [
    "#prepare.sub.data.to.heatmap"
   ],
   "metadata": {}
  },
  {
   "cell_type": "code",
   "execution_count": null,
   "outputs": [],
   "source": [
    "\n",
    "# from https://gist.github.com/Jfortin1/72ef064469d1703c6b30\n",
    "darken <- function(color, factor=1.4){\n",
    "    col <- col2rgb(color)\n",
    "    col <- col/factor\n",
    "    col <- rgb(t(col), maxColorValue=255)\n",
    "    col\n",
    "}\n",
    "lighten <- function(color, factor=1.4){\n",
    "    col <- col2rgb(color)\n",
    "    col <- col*factor\n",
    "    col <- rgb(t(col), maxColorValue=255)\n",
    "    col\n",
    "}\n",
    "\n",
    "prepare.sub.data.to.heatmap<-function(sub.range){\n",
    "samp.labs<<-as.character(as.vector(rep.assign$.strain.[sub.range])) #was full.strain\n",
    "samp.color.labs<<-as.character(as.vector(rep.assign$.strain.similar[sub.range]))\n",
    "#print(t(t(table(samp.labs))))\n",
    "sl.stat<-t(t(table(table(samp.labs))))\n",
    "colnames(sl.stat)<-\"Number of a priori clusters based on `samp.labs` with a given size\"\n",
    "print(sl.stat)\n",
    "\n",
    "my.colors<<-rainbow(length(levels(factor(samp.labs))))\n",
    "my.colors<<-cbind(my.colors,darken(my.colors))\n",
    "#dim(my.colors)\n",
    "\n",
    "toplot.mat<<-h0.odds.ratio.mat[sub.range,sub.range]\n",
    "\n",
    "#toplot.mat<-t(t(toplot.mat)/colSums(samp.len.cnts[cnt.range,])[sub.range])\n",
    "\n",
    "#colnames(toplot.mat)<-samp.labs\n",
    "rownames(toplot.mat)<<-samp.labs\n",
    "    \n",
    "print(paste(\"max(toplot.mat)=\",max(toplot.mat)))\n",
    "\n",
    "#dist.matrix<<- 1-as.matrix((function(m){m/max(m)})(toplot.mat-min(toplot.mat)),\n",
    "                                #h0.odds.ratio.mat[sub.range,sub.range],\n",
    "                                #t(t(h0.odds.ratio.mat[sub.range,sub.range])/colSums(samp.len.cnts[cnt.range,]))\n",
    "#                                    )\n",
    "#dist.matrix<<- -as.matrix(toplot.mat-max(toplot.mat))\n",
    "#dist.matrix<<- -as.matrix(toplot.mat-0.6)\n",
    "dist.matrix<<- -as.matrix(toplot.mat)\n",
    "}\n"
   ],
   "metadata": {}
  },
  {
   "cell_type": "code",
   "execution_count": null,
   "outputs": [],
   "source": [
    "unique(rep.assign$type.strain)\n"
   ],
   "metadata": {}
  },
  {
   "cell_type": "code",
   "execution_count": null,
   "outputs": [],
   "source": [
    "## rep.assign FIX thetaiotamicron_ATCC29148 label\n",
    "#ids.tofix<-rep.assign$rep.name%in%c(\"repBC71A\",\"repBC72B\",\"repBC65C\",\"repBC79A\",\"repBC80B\",\"repBC73C\")\n",
    "#rep.assign$full.strain<-as.character(rep.assign$full.strain)\n",
    "#rep.assign$full.strain[ids.tofix]<-#'Bacteroides_thetaiotaomicron_ATCC29148'\n",
    "#rep.assign$full.strain<-factor(rep.assign$full.strain)\n",
    "#rep.assign$strain<-as.character(rep.assign$strain)\n",
    "#rep.assign$strain[ids.tofix]<-'Bacteroides_thetaiotaomicron'\n",
    "#rep.assign$strain<-factor(rep.assign$strain)\n",
    "#rep.assign$type.strain<-as.character(rep.assign$type.strain)\n",
    "#rep.assign$type.strain[ids.tofix]<-'ATCC29148'\n",
    "#rep.assign$type.strain<-factor(rep.assign$type.strain)\n",
    "#rep.assign[ids.tofix,]"
   ],
   "metadata": {}
  },
  {
   "cell_type": "code",
   "execution_count": null,
   "outputs": [],
   "source": [],
   "metadata": {}
  },
  {
   "cell_type": "code",
   "execution_count": null,
   "outputs": [],
   "source": [
    "head(rep.assign)\n",
    "levels(rep.assign$full.strain)\n",
    "\n",
    "##Below lists not used in thii script\n",
    "\n",
    "##Rename all from the list to the first element in the list\n",
    "#rename.list<-list(\n",
    "#c('Akkermansia_muciniphila_DSMZ_22959', 'Akkermansia_muciniphila', 'Akkermansia_muciniphila_'),\n",
    "#c('Bacillus_cereus_15', 'Bacillus_cereus_15'),\n",
    "#c('Bacillus_cereus_GR177', 'Bacillus_cereus_38', 'Bacillus_cereus_38_(GR177)'),\n",
    "#[...]\n",
    "#)\n"
   ],
   "metadata": {}
  },
  {
   "cell_type": "code",
   "execution_count": null,
   "outputs": [],
   "source": [
    "rename.list<-list() ##Above list not used\n",
    "\n",
    "rep.assign$.strain.<-rep.assign$full.strain\n",
    "for (v in rename.list) {\n",
    "  to.ren<-levels(rep.assign$.strain.)%in%v\n",
    "  levels(rep.assign$.strain.)[to.ren]<-v[1]\n",
    "}\n",
    "table(rep.assign$.strain.)"
   ],
   "metadata": {}
  },
  {
   "cell_type": "code",
   "execution_count": null,
   "outputs": [],
   "source": [],
   "metadata": {}
  },
  {
   "cell_type": "code",
   "execution_count": null,
   "outputs": [],
   "source": [
    "#similar.labels<-list(\n",
    " #   c(\"S.enterica_Typhimurium_u292\",\"S.enterica_Typhimurium_C5\"),\n",
    " #   c(\"Listeria_monocytogenes_EGDe\",\"Listeria_monocytogenes_LO28\"),\n",
    " #   c(\"Lactococcus_lactis_spp._cremoris_MG1363\",\"Lactococcus_lactis_spp._cremoris_Wg2\"),\n",
    "#    c(\"Lactobacillus_plantarum_LLFH15\",\"Lactobacillus_plantarum_DSM20174\"),\n",
    "#    c(\"Lactobacillus_paracasei_subsp._paracasei_NCFB151T\",\"Lactobacillus_paracasei_subsp._paracasei_own\")\n",
    "#    ,c('Bacteriodes_thethaiotaomicron_DSM2079','Bacteroides_thetaiotaomicron_ATCC29148')\n",
    "#)                     \n",
    "#sapply(1:length(similar.labels),function(i)sum(rep.assign$.strain.%in%similar.labels[[i]]))\n",
    "\n",
    "##Above list not used       \n",
    "similar.labels<-list()\n",
    "       \n",
    "       \n",
    "rep.assign$.strain.similar<-rep.assign$.strain.       \n",
    "       \n",
    "for (v in similar.labels) {\n",
    "  to.ren<-levels(rep.assign$.strain.similar)%in%v\n",
    "  levels(rep.assign$.strain.similar)[to.ren]<-v[1]\n",
    "}\n",
    "\n",
    "#t(t(table(rep.assign$.strain.similar)))\n",
    "t(t(table(table(rep.assign$.strain.similar))))"
   ],
   "metadata": {}
  },
  {
   "cell_type": "code",
   "execution_count": null,
   "outputs": [],
   "source": [
    "#rep.assign[rep.assign$rep.name%in%c(\"repBC68A\",\"repBC69B\",\"repBC70C\",\"repBC76A\",\"repBC77B\",\"repBC78C\",\"repBC71A\",\"repBC72B\",\"repBC65C\",\"repBC79A\",\"repBC80B\",\"repBC73C\"),]\n",
    "#\"Bacteriodes_thethaiotaomicron_DSM2079\"==\"Bacteroides_thethaiotaomicron_DSM2079\""
   ],
   "metadata": {}
  },
  {
   "cell_type": "code",
   "execution_count": null,
   "outputs": [],
   "source": [
    "sort(rownames(t(t(table(rep.assign$.strain.)))))\n",
    "#t(t(table(rep.assign$.strain.)))\n",
    "t(t(table(table(rep.assign$.strain.))))"
   ],
   "metadata": {}
  },
  {
   "cell_type": "code",
   "execution_count": null,
   "outputs": [],
   "source": [
    "#png(\"/dev/null\")\n",
    "#plot(1:100)\n",
    "#dev.off()\n",
    "##plot(1:10)\n",
    "\n",
    "#mean(grepl(\"C$\",as.character(rep.assign$rep.name)))"
   ],
   "metadata": {}
  },
  {
   "cell_type": "code",
   "execution_count": null,
   "outputs": [],
   "source": [],
   "metadata": {}
  },
  {
   "cell_type": "code",
   "execution_count": null,
   "outputs": [],
   "source": [
    "printS(\"LCprofiles heatmap\")\n",
    "suppressWarnings(\n",
    "sub.range<-which(grepl(#\"Salmonella\",\n",
    "                       #\"Bacillus|Salmonella|Listeria\",\n",
    "                       \"^rep\",\n",
    "                       rep.assign$full.strain)\n",
    "                 #&(!grepl(#\"Salmonella\",\n",
    "                 #      \"subtilis|lichniformis\",\n",
    "                 #      rep.assign$full.strain))\n",
    "                 #&(!grepl(\"C$\",as.character(rep.assign$rep.name)))\n",
    "                )\n",
    ")\n",
    "#TODO\n",
    "#Subtilis Lihniformis out\n",
    "\n",
    "\n",
    "#\"Salmonella_typhimurium_u292\"\n",
    "#sub.range<-1:288\n",
    "\n",
    "prepare.sub.data.to.heatmap(sub.range)\n",
    "\n",
    "fslabs<-factor(samp.labs)\n",
    "#levels(fslabs)[grepl(\"Bacillus_cereus_38\",levels(fslabs))]<-\"Bacillus_cereus_38\"\n",
    "color.labs<-as.integer(fslabs)\n",
    "\n",
    "\n",
    "#heatmap3(res.log.scaled.sparse$L.svd$vt[1:8,] * res.log.scaled.sparse$L.svd$d[1:8], \n",
    "#         ColSideColors = pbmc3k$analysis$clust5$mapping$Cluster, scale = \"none\")\n",
    "\n",
    "#colnames(toplot.mat)[1:2]\n",
    "#highlightCell<-as.data.frame(NULL)\n",
    "toplot.mat.hcmp<-toplot.mat\n",
    "diag(toplot.mat.hcmp)<- -Inf\n",
    "mark.fun<-which.max\n",
    "#mark.fun2<-function(v){which(v==sort(v,decreasing=TRUE)[2])}\n",
    "highlightCell<-cbind(a=as.data.frame(c(1:NROW(toplot.mat),apply(toplot.mat.hcmp,2,mark.fun))),\n",
    "                     b=c(apply(toplot.mat.hcmp,1,mark.fun),1:NROW(toplot.mat)),\n",
    "                     c=c(rep(\"violet\",NROW(toplot.mat)),rep(\"green1\",NROW(toplot.mat))))\n",
    "#Double marked in third color\n",
    "hcpairs<-paste(highlightCell[,1],highlightCell[,2],sep=\"_\")\n",
    "highlightCell<-rbind(highlightCell,\n",
    "      cbind(highlightCell[duplicated(hcpairs),1:2],c=\"darkgreen\")) \n",
    "\n",
    "cutoff<-0.09\n",
    "\n",
    "f.dev<-list(function()png(paste0(heatmap.filepref,\"_clustering_heatmap_01.png\"),width=2400,height=2400,pointsize=24),\n",
    "            function()psz(12,res=200))\n",
    ".fdn<-0            \n",
    "for (fd in f.dev) { \n",
    ".fdn<-.fdn+1; fd()\n",
    "h3.res<-heatmap3(#t(t(h0.odds.ratio.mat[sub.range,sub.range])/colSums(samp.len.cnts[cnt.range,])), \n",
    "         10^toplot.mat,\n",
    "         #dist.matrix,\n",
    "         Rowv=NULL,symm=TRUE,\n",
    "         col = colorRampPalette(c(\"navy\",\n",
    "                                  \"white\",\n",
    "                                  #\"blue\",\"white\",\"firebrick3\", \n",
    "                                  \"firebrick4\"))(1024),\n",
    "         hclustfun=function(...) fastcluster::hclust(as.dist(dist.matrix),   \n",
    "                                                    #method=\"complete\"\n",
    "                                                    #method=\"single\"\n",
    "                                                    method=\"ward.D2\"\n",
    "                                                    ),\n",
    "         ColSideColors = my.colors[as.integer(factor(samp.color.labs)),2],         \n",
    "         RowSideColors = my.colors[as.integer(factor(samp.color.labs)),2],         \n",
    "         ColSideLabs = \".strain.\", #\"full.strain\",\n",
    "         RowSideLabs = \"rep.name\",\n",
    "         #RowSideLabs = colnames(h0.odds.ratio.mat[sub.range,sub.range]),\n",
    "         ColAxisColors = 1,#my.colors[as.integer(factor(samp.labs)),2],\n",
    "         RowAxisColors = 1,\n",
    "         #RowSideLabs = samp.labs,\n",
    "         scale=\"none\",\n",
    "         balanceColor = FALSE,\n",
    "         margins=c(12,12),\n",
    "         cexRow=0.6,\n",
    "         cexCol=0.6,\n",
    "         ColSideCut=cutoff,\n",
    "         #ColSideWitdh=1.8,         \n",
    "         #main=\"Clustering according to single-read-averaged odds ratio (log)\",#expression(), #\"[10]*\")\"),\n",
    "         ##main=bquote(paste('Clustering according to single-read-normalized odds ratio (log'['10']*')')),\n",
    "         #legendbar.mar=c(6,1,5,0),\n",
    "         #legendbar.xlab=\"signle.read.normalized\\nodds.ratio\",\n",
    "         main=\"Clustering according to K-L divergence-like distance\",\n",
    "         sub=p(\"(ma.smoothing.window=\",ma.window.size,\", clust.cutoff=\",round(cutoff,3),\")\"),\n",
    "         #legendbar.xlab=paste(\"read.averaged.odds.ratio\\n\",expression(exp(-D_KLsym))),\n",
    "         legendbar.xlab=paste(\"read.averaged.odds.ratio\\n\",expression(10^(-D_KLsym))),\n",
    "         legendbar.mar=c(6,1,5,0),\n",
    "         #cex=2,\n",
    "         #cex.lab=2,\n",
    "         keep.dendro=TRUE,    \n",
    "         dendr.height.fun=function(h)sqrt(h),\n",
    "         highlightCell=highlightCell,\n",
    "         #revC=FALSE,\n",
    "         na.rm=FALSE\n",
    "         )\n",
    "if (.fdn<2) dev.off()\n",
    "}\n",
    "\n",
    "#   if (TRUE) {\n",
    "#        if (ncol(highlightCell) == 3) {\n",
    "#            highlightCell$lwd <- 1\n",
    "#        }\n",
    "#        highlightCell[, 1] <- h3.res$rowInd[highlightCell[, 1]]\n",
    "#        highlightCell[, 2] <- h3.res$colInd[highlightCell[, 2]]\n",
    "#        rect(highlightCell[, 2] - 0.5, highlightCell[, 1] - 0.5, \n",
    "#            highlightCell[, 2] + 0.5, highlightCell[, 1] + 0.5, \n",
    "#            border = as.character(highlightCell[, 3]), lwd = as.integer(highlightCell[, \n",
    "#                4]))\n",
    "#    }"
   ],
   "metadata": {}
  },
  {
   "cell_type": "code",
   "execution_count": null,
   "outputs": [],
   "source": [
    "#?options\n",
    "order(h3.res$rowInd)"
   ],
   "metadata": {}
  },
  {
   "cell_type": "code",
   "execution_count": null,
   "outputs": [],
   "source": [
    "#for (i in 1:100)dev.off()\n",
    "printS(\"LCprofiles ordered according to the clustering\")\n",
    "NC<-NCOL(samp.len.cnts.ma); Ncols<-NC%/%5; #print(Ncols)\n",
    "options(repr.plot.width=10,repr.plot.height=10,res=120)\n",
    "..colors<-my.colors[as.integer(factor(samp.color.labs)),2]\n",
    "\n",
    "par(mfrow=c(4,1))\n",
    "for (i in 1:NC){\n",
    " cn<-rev(rank(h3.res$rowInd))[i] \n",
    " plot(samp.len.cnts.ma[1:3000,cn],type=\"l\",pch=\".\",ylab=\"LCp.ma.smooth\") \n",
    " title(colnames(samp.len.cnts.ma)[cn],col.main=..colors[cn]) \n",
    "}"
   ],
   "metadata": {}
  },
  {
   "cell_type": "code",
   "execution_count": null,
   "outputs": [],
   "source": [
    "pdf.call(paste0(heatmap.filepref,\"_flowgrams_clustering_order.pdf\"),height=30*NC,width=900)\n",
    "par(mfrow=c(4,1))\n",
    "par(mar=c(1,1,1,1))\n",
    "for (i in 1:NC){\n",
    " cn<-rev(rank(h3.res$rowInd))[i] \n",
    " plot(samp.len.cnts.ma[1:3000,cn],type=\"l\",pch=\".\",ylab=\"LCp.ma.smooth\") \n",
    " title(colnames(samp.len.cnts.ma)[cn],col.main=..colors[cn]) \n",
    "}\n",
    "dev.off()         "
   ],
   "metadata": {}
  },
  {
   "cell_type": "code",
   "execution_count": null,
   "outputs": [],
   "source": [],
   "metadata": {}
  },
  {
   "cell_type": "code",
   "execution_count": null,
   "outputs": [],
   "source": [
    "## Smaller heatmap plot less details\n",
    "printS(\"LCprofiles heatmap (small)\")\n",
    "\n",
    "suppressWarnings(\n",
    "sub.range<-which(grepl(#\"Listeria\",\n",
    "                       #\"Salmonella\",\n",
    "                       \"^rep\",\n",
    "                        #\"_12067|_42222/180|_N53-1|_EGDe|\",#\"_0112F|_4//74|_C5|_LO28|_u292\",\n",
    "                       rep.assign$full.strain)\n",
    "                #&(!grepl(\"C$\",as.character(rep.assign$rep.name)))\n",
    "                )\n",
    ")\n",
    "sub.range\n",
    "\n",
    "#\"Salmonella_typhimurium_u292\"\n",
    "#sub.range<-1:288\n",
    "\n",
    "prepare.sub.data.to.heatmap(sub.range)\n",
    "\n",
    "psz(8,res=200)\n",
    "#heatmap3(res.log.scaled.sparse$L.svd$vt[1:8,] * res.log.scaled.sparse$L.svd$d[1:8], \n",
    "#         ColSideColors = pbmc3k$analysis$clust5$mapping$Cluster, scale = \"none\")\n",
    "\n",
    "cutoff<-0.09\n",
    "\n",
    "f.dev<-list(function()png(paste0(heatmap.filepref,\"_clustering_heatmap_02.png\"),width=1600,height=1600,pointsize=36),\n",
    "            function()psz(8,res=200)); \n",
    ".fdn<-0            \n",
    "for (fd in f.dev) { \n",
    ".fdn<-.fdn+1; fd()\n",
    "h3.res<-heatmap3(#t(t(h0.odds.ratio.mat[sub.range,sub.range])/colSums(samp.len.cnts[cnt.range,])), \n",
    "         10^toplot.mat,\n",
    "         #dist.matrix,\n",
    "         Rowv=NULL,symm=TRUE,\n",
    "         col = colorRampPalette(c(\"navy\", \"white\",#\"white\",\"firebrick3\", \n",
    "                                  \"firebrick4\"))(1024),\n",
    "         hclustfun=function(...) fastcluster::hclust(as.dist(dist.matrix),   \n",
    "                                                    #method=\"complete\"\n",
    "                                                    #method=\"single\"\n",
    "                                                    method=\"ward.D2\"\n",
    "                                                    ),\n",
    "         ColSideColors = my.colors[as.integer(factor(samp.color.labs)),2],         \n",
    "         RowSideColors = my.colors[as.integer(factor(samp.color.labs)),2],\n",
    "         ColSideLabs = \".strain.\", #\"full.strain\",\n",
    "         RowSideLabs = \"rep.name\",\n",
    "         #RowSideLabs = colnames(h0.odds.ratio.mat[sub.range,sub.range]),\n",
    "         ColAxisColors = 1,#my.colors[as.integer(factor(samp.labs)),2],\n",
    "         RowAxisColors = 1,\n",
    "         #RowSideLabs = samp.labs,\n",
    "         scale=\"none\",\n",
    "         balanceColor = FALSE,\n",
    "         margins=c(12,12),\n",
    "         cexRow=0.6,\n",
    "         cexCol=0.6,\n",
    "         ColSideCut=cutoff,\n",
    "         #RowSideCut=0.2,\n",
    "         #ColSideWitdh=1.8,         \n",
    "         main=\"Clustering according to K-L divergence-like distance\",\n",
    "         sub=p(\"(ma.smoothing.window=\",ma.window.size,\", clust.cutoff=\",round(cutoff,3),\")\"),\n",
    "         #legendbar.xlab=paste(\"read.averaged.odds.ratio\\n\",expression(exp(-D_KLsym))),\n",
    "         legendbar.xlab=paste(\"read.averaged.odds.ratio\\n\",expression(10^(-D_KLsym))),\n",
    "         legendbar.mar=c(6,1,5,0),         \n",
    "         #cex=2,\n",
    "         #cex.lab=2,\n",
    "         keep.dendro=TRUE,\n",
    "         dendr.height.fun=function(h)sqrt(h),\n",
    "         na.rm=FALSE\n",
    "         )\n",
    "if (.fdn<2) dev.off()\n",
    "}"
   ],
   "metadata": {}
  },
  {
   "cell_type": "code",
   "execution_count": null,
   "outputs": [],
   "source": [],
   "metadata": {}
  },
  {
   "cell_type": "markdown",
   "source": [
    "NProb\n",
    "$$D_{\\mathrm{nprob}}(LCp_1\\|Dp_2) = -\\sum_i \\frac{LCp_1(i)}{\\#LCp_1} \\, \\log_{10}{Dp_2(i)} \\,=\\, -\\sum_i P_{LCp_1(i)} \\, \\log_{10}{Dp_2(i)}, $$\n",
    "\n",
    "Kullback-Leiber divergence-like distance\n",
    "\n",
    "$$D_{\\mathrm{KL}}(LCp_1\\|Dp_2) = - \\sum_i P_{LCp_1(i)} \\, \\log_{10}\\frac{Dp_2(i)}{Dp_1(i)},$$\n",
    "\n",
    "( which is similar to \n",
    "\n",
    "$$D_{\\mathrm{KL}}(P\\|Q) = \\sum_i P(i) \\, \\log\\frac{P(i)}{Q(i)}.$$\n",
    ")\n",
    "\n",
    "Symmetrised K-L divergence which is symmetric and non-negative.\n",
    "<!-- $$D_{\\mathrm{KL}}(P\\|Q) + D_{\\mathrm{KL}}(Q\\|P)\\, \\!$$ !-->\n",
    "\n",
    "$$D_{\\mathrm{KLsym}}(LCp_1,LCp_2) \\,=\\, \\frac{D_{\\mathrm{KL}}(LCp_1\\|Dp_2) + D_{\\mathrm{KL}}(LCp_2\\|Dp_1)}{2}\\,.$$\n"
   ],
   "metadata": {
    "collapsed": false
   }
  },
  {
   "cell_type": "markdown",
   "source": [],
   "metadata": {
    "collapsed": false
   }
  },
  {
   "cell_type": "code",
   "execution_count": null,
   "outputs": [],
   "source": [],
   "metadata": {}
  },
  {
   "cell_type": "code",
   "execution_count": null,
   "outputs": [],
   "source": [
    "\n",
    "################################################################################\n",
    "################################################################################\n"
   ],
   "metadata": {}
  },
  {
   "cell_type": "code",
   "execution_count": null,
   "outputs": [],
   "source": [
    "stopNbEval(1) ## Saves R image and cleans R environment so the following code is void"
   ],
   "metadata": {}
  },
  {
   "cell_type": "code",
   "execution_count": null,
   "outputs": [],
   "source": [
    "\n",
    "\n"
   ],
   "metadata": {}
  },
  {
   "cell_type": "code",
   "execution_count": null,
   "outputs": [],
   "source": [
    "\n",
    "##\n",
    "##  END OF VERIFIED EXECUTABLE CODE\n",
    "##\n",
    "################################################################################\n",
    "################################################################################\n",
    "################################################################################\n",
    "################################################################################\n",
    "# Removed experimental code following this cell"
   ],
   "metadata": {}
  }
 ],
 "metadata": {
  "celltoolbar": "Tags",
  "kernelspec": {
   "display_name": "R",
   "language": "R",
   "name": "ir"
  },
  "language_info": {
   "codemirror_mode": "r",
   "file_extension": ".r",
   "mimetype": "text/x-r-source",
   "name": "R",
   "pygments_lexer": "r",
   "version": "3.5.2"
  },
  "name": "__NB_TITLE",
  "title": "__NB_TITLE"
 },
 "nbformat": 4,
 "nbformat_minor": 1
}